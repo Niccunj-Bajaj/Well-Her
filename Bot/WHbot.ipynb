{
 "cells": [
  {
   "cell_type": "code",
   "execution_count": 1,
   "id": "c8490d33-354b-43d8-8112-3d7d4d1e8dc6",
   "metadata": {},
   "outputs": [
    {
     "name": "stdout",
     "output_type": "stream",
     "text": [
      "Number of GPUs available: 1\n",
      "GPU Name: NVIDIA GeForce RTX 3050 Laptop GPU\n"
     ]
    }
   ],
   "source": [
    "import torch\n",
    "\n",
    "print(\"Number of GPUs available:\", torch.cuda.device_count())\n",
    "print(\"GPU Name:\", torch.cuda.get_device_name())"
   ]
  },
  {
   "cell_type": "code",
   "execution_count": 2,
   "id": "fdcfb807-7ae7-498f-82f9-150c9a5db850",
   "metadata": {},
   "outputs": [],
   "source": [
    "from langchain_text_splitters import RecursiveCharacterTextSplitter\n",
    "from langchain.schema.document import Document\n",
    "from langchain.embeddings import OpenAIEmbeddings\n",
    "from langchain_chroma import Chroma\n",
    "from langchain_community.document_loaders.pdf import PyPDFDirectoryLoader\n",
    "from langchain_nvidia_ai_endpoints import NVIDIAEmbeddings\n",
    "from openai import OpenAI\n",
    "from flask_cors import CORS\n",
    "from flask import Flask, request, jsonify\n",
    "from flask_ngrok import run_with_ngrok"
   ]
  },
  {
   "cell_type": "code",
   "execution_count": 3,
   "id": "1ba9b06c-4474-41c1-ae1a-bd0594beb024",
   "metadata": {},
   "outputs": [],
   "source": [
    "def load_documents():\n",
    "    document_loader = PyPDFDirectoryLoader(\"./DATA2\")\n",
    "    return document_loader.load()"
   ]
  },
  {
   "cell_type": "code",
   "execution_count": 4,
   "id": "166a88d3-da6e-4126-9868-2d5cf0ff0518",
   "metadata": {},
   "outputs": [
    {
     "data": {
      "text/plain": [
       "Document(metadata={'source': 'DATA2\\\\10.1177_20533691231216162.pdf', 'page': 0}, page_content='Original article\\nPost Reproductive Health\\n2023, Vol. 29(4) 201– 221\\n© The Author(s) 2023\\nArticle reuse guidelines:\\nsagepub.com/journals-permissions\\nDOI: 10.1177/20533691231216162\\njournals.sagepub.com/home/min\\nPerimenopausal women’s voices: How does\\ntheir period at the end of reproductive life\\naffect wellbeing?\\nElizabeth Ray1, Jacqueline A Maybin2 and Joyce C Harper1\\ue840\\nAbstract\\nObjective: To explore perimenopausal women’s feelings towards their periods, the impact on their wellbeing and how we\\ncan support them.\\nStudy design:Participants were recruited for focus groups through social media advertisements. In 6 online focus groups,\\n31 perimenopausal women aged 40– 55 living in the UK were asked 5 questions relating to periods and perimenopause,\\nsupport and education.\\nMain outcome measures:Content analysis.\\nResults: When asked How do you feel about having a period? The participants often related back to the stress of menarche\\nand said their period negatively impacted their wellbeing their whole lives. During perimenopause, their periods had\\nbecome unpredictable, heavy, and a debilitating disruption to their lives. The women desired support at work through\\npolicy, and from family and friends. They believed that educating girls and boys during school was the best place to start, but\\nthat education through work and community groups was also needed. They felt healthcare professionals should have\\nmandatory training regarding women’s health issues and menopause.\\nConclusion: The study highlights the impact of menstrual experiences on the wellbeing of perimenopausal women,\\nemphasising the need for improved menstrual education from an early age. Comprehensive menstrual education in schools\\ninvolving both genders to enable informed decision-making and improved training for healthcare professionals are\\nrecommended. Support networks for perimenopausal women will promote better quality of life for women as they go\\nthrough their perimenopause journey.\\nKeywords\\nPerimenopause, period, menstruation, heavy, wellbeing, unpredictable\\nIntroduction\\nMost women experience menstrual cycles between men-\\narche and menopause.1 Menarche begins around 12 years\\nold for girls in the UK, but can start between 8 and 17 years2\\nMenstruation is cyclic shedding of the uterine lining that\\nand occurs approximately every 24–38 days and lasts up to\\n8 days, though both menstrual cycle and bleeding length can\\nvary from month to month and between individuals.3 The\\nmenstrual cycle begins on the ﬁrst day of menstrual\\nbleeding and lasts until the day before the next period\\nbegins.2 Menopause is deﬁned as a year after the ﬁnal\\nmenstrual period (FMP).4,5 On average, menopause occurs\\nbetween ages 45 and 55, with the UK’s average being\\n51 years.6,7 After menopause, a woman is postmenopausal.\\nSome women’s quality of life (QoL) and wellbeing are\\nsigniﬁcantly impacted by their period. Often, the initial\\nepisode of menses shapes perception and management\\nthroughout their lives – many have negative experiences\\naround their menstruation.8,9\\nNote, in this paper we will use the term women, as the\\nfocus groups included only cis women. A separate study\\nneeds to be done with trans, non-binary and gender diverse\\npeople.\\n1UCL EGA Institute for Women’s Health, University College London,\\nLondon, UK\\n2Centre for Reproductive Health, Institute for Regeneration and Repair,\\nUniversity of Edinburgh, Edinburgh, UK\\nCorresponding author:\\nJoyce C Harper, UCL EGA Institute for Women’s Health, University\\nCollege London, 86-96 Chenies Mews, London, WC1E 6HX, UK.\\nEmail:joyce.harper@ucl.ac.uk')"
      ]
     },
     "execution_count": 4,
     "metadata": {},
     "output_type": "execute_result"
    }
   ],
   "source": [
    "docs = load_documents()\n",
    "docs[0]"
   ]
  },
  {
   "cell_type": "code",
   "execution_count": 5,
   "id": "593fbea6-01e4-4773-8223-19fde798992b",
   "metadata": {},
   "outputs": [],
   "source": [
    "def split_document(documents: list[Document]):\n",
    "    text_splitter = RecursiveCharacterTextSplitter(\n",
    "        chunk_size = 800,\n",
    "        chunk_overlap = 80,\n",
    "        length_function = len,\n",
    "        is_separator_regex = False,\n",
    "    )\n",
    "    return text_splitter.split_documents(docs)"
   ]
  },
  {
   "cell_type": "code",
   "execution_count": 6,
   "id": "cc68bca1-7914-4518-aa2a-0afc7da53404",
   "metadata": {},
   "outputs": [
    {
     "data": {
      "text/plain": [
       "Document(metadata={'source': 'DATA2\\\\10.1177_20533691231216162.pdf', 'page': 0}, page_content='Original article\\nPost Reproductive Health\\n2023, Vol. 29(4) 201– 221\\n© The Author(s) 2023\\nArticle reuse guidelines:\\nsagepub.com/journals-permissions\\nDOI: 10.1177/20533691231216162\\njournals.sagepub.com/home/min\\nPerimenopausal women’s voices: How does\\ntheir period at the end of reproductive life\\naffect wellbeing?\\nElizabeth Ray1, Jacqueline A Maybin2 and Joyce C Harper1\\ue840\\nAbstract\\nObjective: To explore perimenopausal women’s feelings towards their periods, the impact on their wellbeing and how we\\ncan support them.\\nStudy design:Participants were recruited for focus groups through social media advertisements. In 6 online focus groups,\\n31 perimenopausal women aged 40– 55 living in the UK were asked 5 questions relating to periods and perimenopause,\\nsupport and education.')"
      ]
     },
     "execution_count": 6,
     "metadata": {},
     "output_type": "execute_result"
    }
   ],
   "source": [
    "chunks = split_document(docs)\n",
    "chunks[0]"
   ]
  },
  {
   "cell_type": "code",
   "execution_count": 7,
   "id": "1e8a3f42-5409-444d-9949-dd921c5db787",
   "metadata": {},
   "outputs": [],
   "source": [
    "nvidia_api_key = \"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\"\n",
    "    \n",
    "client = OpenAI(\n",
    "    base_url = \"https://integrate.api.nvidia.com/v1\",\n",
    "    api_key = nvidia_api_key\n",
    ")"
   ]
  },
  {
   "cell_type": "code",
   "execution_count": 8,
   "id": "bbc7ae74-c2b9-4091-83c6-5f36e08efffb",
   "metadata": {},
   "outputs": [],
   "source": [
    "def get_embedding_function():\n",
    "    embeddings = NVIDIAEmbeddings(\n",
    "        model=\"NV-Embed-QA\", \n",
    "        api_key=nvidia_api_key, \n",
    "        truncate=\"NONE\", \n",
    "    )\n",
    "    return embeddings"
   ]
  },
  {
   "cell_type": "code",
   "execution_count": 9,
   "id": "11282a1c-48f5-4693-933e-5e7dd6a4bd75",
   "metadata": {},
   "outputs": [],
   "source": [
    "def add_to_chroma(chunks: list[Document]):\n",
    "    db = Chroma(\n",
    "        persist_directory = \"./db\", embedding_function = get_embedding_function()\n",
    "    )\n",
    "   \n",
    "    #Add pr update DB\n",
    "    exisitng_items = db.get(include = [])\n",
    "    existing_ids = set(exisitng_items[\"ids\"])\n",
    "    print(f\"Number of Existing documents in DB: {len(existing_ids)}\")\n",
    "    \n",
    "    #Only add docs that don't exist in DB\n",
    "    new_chunks = []\n",
    "    for chunk in chunks_with_ids:\n",
    "        if chunk.metadata[\"id\"] not in existing_ids:\n",
    "            new_chunks.append(chunk)\n",
    "    new_chunk_ids = [chunk.metadata[\"id\"] for chunk in new_chunks]\n",
    "    db.add_documents(new_chunks, ids = new_chunk_ids)\n",
    "    db.persist()\n",
    "\n",
    "def calculate_chunk_ids(chunks):\n",
    "\n",
    "    # This will create IDs\n",
    "    # Page Source : Page Number : Chunk Index\n",
    "\n",
    "    last_page_id = None\n",
    "    current_chunk_index = 0\n",
    "\n",
    "    for chunk in chunks:\n",
    "        source = chunk.metadata.get(\"source\")\n",
    "        page = chunk.metadata.get(\"page\")\n",
    "        current_page_id = f\"{source}:{page}\"\n",
    "\n",
    "        # If the page ID is the same as the last one, increment the index.\n",
    "        if current_page_id == last_page_id:\n",
    "            current_chunk_index += 1\n",
    "        else:\n",
    "            current_chunk_index = 0\n",
    "\n",
    "        # Calculate the chunk ID.\n",
    "        chunk_id = f\"{current_page_id}:{current_chunk_index}\"\n",
    "        last_page_id = current_page_id\n",
    "\n",
    "        # Add it to the page meta-data.\n",
    "        chunk.metadata[\"id\"] = chunk_id\n",
    "\n",
    "    return chunks"
   ]
  },
  {
   "cell_type": "code",
   "execution_count": 10,
   "id": "3eecac52-e357-44db-830f-32452629313e",
   "metadata": {},
   "outputs": [],
   "source": [
    "def query_rag(query):\n",
    "    embedding_function = get_embedding_function()\n",
    "    db = Chroma(\n",
    "        persist_directory = \"./db\",\n",
    "        embedding_function = embedding_function,\n",
    "    )\n",
    "\n",
    "    results = db.similarity_search_with_score(query,k = 3)\n",
    "    context_data = \"\\n\".join([doc.page_content for doc in results])\n",
    "    \n",
    "    prompt_template = f\"\"\"\n",
    "    <|context|>\n",
    "    You are a compassionate, knowledgeable virtual medical assistant focused solely on women’s health.\n",
    "    Your goal is to provide precise, empathetic, and accurate information related to women’s health, conditions, and wellness.And also\n",
    "    provide the imformation in a polite girly manner(accroding to the user's way of questioning), and when needed act faminine and make the user feel\n",
    "    safe.\n",
    "    You should only answer questions about women's health issues.\n",
    "\n",
    "    If a question is asked that pertains to men’s or male's health or any other unrelated topic, respond with:\n",
    "    \"I am specifically designed to address topics related to women’s health. Please feel free to ask any questions you may have on this subject.😄\"\n",
    "\n",
    "    You can refer to the following data for your answers:\n",
    "    {context_data}\n",
    "\n",
    "    Be clear, direct, and supportive in your answers.\n",
    "    </s>\n",
    "    <|user|>\n",
    "    {query}\n",
    "    </s>\n",
    "    <assistant|>\n",
    "    \"\"\"\n",
    "    return nvidia_bot(prompt_template)\n"
   ]
  },
  {
   "cell_type": "code",
   "execution_count": 11,
   "id": "39e6cd09-9561-48dc-877c-5ed4c0d78284",
   "metadata": {},
   "outputs": [],
   "source": [
    "def nvidia_bot(prompt_template):\n",
    "    completion = client.chat.completions.create(\n",
    "      model=\"nvidia/llama-3.1-nemotron-70b-instruct\",\n",
    "      messages=[{\"role\":\"user\",\"content\":prompt_template}],\n",
    "      temperature=0.2,\n",
    "      top_p=1,\n",
    "      max_tokens=2840,\n",
    "      stream=True,\n",
    "    )\n",
    "\n",
    "    result = \"\"\n",
    "    for chunk in completion:\n",
    "      if chunk.choices[0].delta.content is not None:\n",
    "            result += chunk.choices[0].delta.content\n",
    "    return result.strip()"
   ]
  },
  {
   "cell_type": "code",
   "execution_count": null,
   "id": "03bbd0bd-4e25-4639-bbe2-fdf9cf66bddd",
   "metadata": {},
   "outputs": [
    {
     "name": "stdout",
     "output_type": "stream",
     "text": [
      " * Serving Flask app '__main__'\n",
      " * Debug mode: off\n"
     ]
    },
    {
     "name": "stderr",
     "output_type": "stream",
     "text": [
      "WARNING: This is a development server. Do not use it in a production deployment. Use a production WSGI server instead.\n",
      " * Running on http://127.0.0.1:5000\n",
      "Press CTRL+C to quit\n",
      "127.0.0.1 - - [03/May/2025 00:13:34] \"OPTIONS /api/query HTTP/1.1\" 200 -\n",
      "127.0.0.1 - - [03/May/2025 00:13:49] \"POST /api/query HTTP/1.1\" 200 -\n",
      "127.0.0.1 - - [03/May/2025 10:49:31] \"OPTIONS /api/query HTTP/1.1\" 200 -\n",
      "127.0.0.1 - - [03/May/2025 10:49:37] \"POST /api/query HTTP/1.1\" 200 -\n"
     ]
    }
   ],
   "source": [
    "app = Flask(__name__)\n",
    "CORS(app)\n",
    "\n",
    "@app.route(\"/api/query\", methods=[\"POST\"])\n",
    "def handle_query():\n",
    "    data = request.get_json()\n",
    "    query = data.get(\"query\")\n",
    "    if not query:\n",
    "        return jsonify({\"error\": \"Query is required\"}), 400\n",
    "\n",
    "    response = query_rag(query)\n",
    "    return jsonify({\"response\": response})\n",
    "\n",
    "app.run()\n"
   ]
  },
  {
   "cell_type": "code",
   "execution_count": null,
   "id": "59be6a2b-6b7f-4ed6-b763-5bd1765b31f3",
   "metadata": {},
   "outputs": [],
   "source": []
  }
 ],
 "metadata": {
  "kernelspec": {
   "display_name": "Python (WHbot)",
   "language": "python",
   "name": "whbot"
  },
  "language_info": {
   "codemirror_mode": {
    "name": "ipython",
    "version": 3
   },
   "file_extension": ".py",
   "mimetype": "text/x-python",
   "name": "python",
   "nbconvert_exporter": "python",
   "pygments_lexer": "ipython3",
   "version": "3.10.0"
  }
 },
 "nbformat": 4,
 "nbformat_minor": 5
}
